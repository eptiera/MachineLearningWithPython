{
 "cells": [
  {
   "cell_type": "markdown",
   "metadata": {},
   "source": [
    "# Relationship Between ML and Data Science?"
   ]
  },
  {
   "cell_type": "markdown",
   "metadata": {},
   "source": [
    "A statistician? Kind of. Data science, in it’s simplest terms, can be described as a field of automated statistics in the form of models that aide in classifying and predicting outcomes. Here are the top skills that are required to be a data scientist:\n",
    "Python or R\n",
    "SQL\n",
    "Jupyter Notebook"
   ]
  },
  {
   "cell_type": "markdown",
   "metadata": {},
   "source": [
    "<img src=\"img1.jpg\">"
   ]
  },
  {
   "cell_type": "markdown",
   "metadata": {},
   "source": [
    "# Then who is ML Engineer?"
   ]
  },
  {
   "cell_type": "markdown",
   "metadata": {},
   "source": [
    "The main function is to put that model into production. A data science model can be quite static sometimes, and an engineer can help to automatically train and evaluate that same model. They would then insert the predictions back into the data warehouse/SQL tables for your company. After that, a software engineer and UI/UX designer will display the predictions into a user interface — if necessary. As you can see, the whole process from business problem to solution in a visible, easy to use format, is not just the responsibility of a data scientist (however, yes, some data scientists can do all x amount of roles)."
   ]
  },
  {
   "cell_type": "markdown",
   "metadata": {},
   "source": [
    "<img src=\"img2.jpeg\">"
   ]
  },
  {
   "cell_type": "markdown",
   "metadata": {},
   "source": [
    "# Branches of ML"
   ]
  },
  {
   "cell_type": "markdown",
   "metadata": {},
   "source": [
    "**1. Supervised Learning**: You have a **target, a value or a class to predict**. For instance, let’s say you want to predict the revenue of a store from different inputs (day of the week, advertising, promotion). Then your model will be trained on historical data and use them to forecast future revenues. Hence the model is **supervised**, it knows what to learn. Supervised learning includes regression and classification problems.\n",
    "\n",
    "Suprvised Learning handle 2 types of problems:\n",
    "* **i) Regression:** When the output variable contains continuous values.\n",
    "* **ii) Classification:** When the output variable takes class labels.\n",
    "\n",
    "**2. Unsupervised Learning**: You have **unlabelled data and looks for patterns, groups** in these data. For example, you want to cluster to clients according to the type of products they order, how often they purchase your product, their last visit, … Instead of doing it manually, **unsupervised** machine learning will automatically discriminate different clients. Unsupervised learning includes clustering, anomaly detection etc.\n",
    "\n",
    "\n",
    "**3. Reinforcement Learning**: You want to **attain an objective**. For example, you want to find the best strategy to win a game with specified rules. Once these rules are specified, **reinforcement** learning techniques will play this game many times to find the best strategy. Some examples of reinforcement learning are - Self Driving Cars, Google Alpha Go etc."
   ]
  },
  {
   "cell_type": "markdown",
   "metadata": {},
   "source": [
    "<img src=\"img4.jpg\">"
   ]
  },
  {
   "cell_type": "markdown",
   "metadata": {},
   "source": [
    "# Supervised Learning Process"
   ]
  },
  {
   "cell_type": "markdown",
   "metadata": {},
   "source": [
    "**The very basic process:**\n",
    "\n",
    "**Step 01:** Segregate the target and features columns. Split your data into **training** and **test** sets.\n",
    "\n",
    "<img src=\"img5.PNG\" alt=\"drawing\" width=\"350\">\n",
    "\n",
    "* **Training Dataset** is the sample of data used to fit the model.\n",
    "* **Test Dataset** is the sample of data used to provide an unbiased evaluation of a final model fit on the training dataset.\n",
    "\n",
    "The question is what is a good train-test split ratio? There is no unversal rule, some good ratios are 80:20, 70:30.\n",
    "\n",
    "**Step 02:** Select the appropriate machine learning algorithms according to the nature of your data.\n",
    "\n",
    "**Step 03:** Select the metrics that are important to you according to the problem.\n",
    "\n",
    "**Step 04:** Train the algorithm using the **training set**. After training, you'll get your trained model. **Model = Algorithm + Training Data**.\n",
    "\n",
    "**Step 05:** Make preditions on the **test data** and evaluate your model's performance.\n",
    "\n",
    "**Note: This is not the best supervised learning process. This is very basic process. There are better learning process which we'll learn in the future sessions.**\n"
   ]
  },
  {
   "cell_type": "markdown",
   "metadata": {},
   "source": [
    "<h1>Unsupervised Learning: </h1><br>\n",
    "Unsupervised Learning is a machine learning technique in which the users do not need to supervise the model. Instead, it allows the model to work on its own to discover patterns and information that was previously undetected. It mainly deals with the unlabelled data."
   ]
  },
  {
   "cell_type": "markdown",
   "metadata": {},
   "source": [
    "<h3>Unsupervised Learning Algorithms </h3><br> allow users to perform more complex processing tasks compared to supervised learning. Although, unsupervised learning can be more unpredictable compared with other natural learning methods. Unsupervised learning algorithms include clustering, anomaly detection, neural networks, etc."
   ]
  },
  {
   "cell_type": "markdown",
   "metadata": {},
   "source": [
    "<img src=\"unsup1.png\">\n",
    "\n",
    "Think about this baby and the dog."
   ]
  },
  {
   "cell_type": "markdown",
   "metadata": {},
   "source": [
    "<img src=\"unsup2.png\">\n",
    "<center> The new Dog </center>"
   ]
  },
  {
   "cell_type": "markdown",
   "metadata": {},
   "source": [
    "<h2>Why Unsupervised Learning?</h2> <br>\n",
    " Here, are prime reasons for using Unsupervised Learning: <br> <br>\n",
    "<li>Unsupervised machine learning finds all kind of unknown patterns in data.</li>\n",
    "<li>Unsupervised methods help you to find features which can be useful for categorization.</li>\n",
    "<li>It is taken place in real time, so all the input data to be analyzed and labeled in the presence of learners.</li>\n",
    "<li>It is easier to get unlabeled data from a computer than labeled data, which needs manual intervention.</li>"
   ]
  },
  {
   "cell_type": "markdown",
   "metadata": {},
   "source": [
    "**Types of Unsupervised Learning**\n",
    "Unsupervised learning problems further grouped into clustering and association problems.\n",
    "\n",
    "<h3>Clustering</h3>\n",
    "<img src=\"clus.png\">"
   ]
  },
  {
   "cell_type": "markdown",
   "metadata": {},
   "source": [
    "Clustering is an important concept when it comes to unsupervised learning. It mainly deals with finding a structure or pattern in a collection of uncategorized data. Clustering algorithms will process your data and find natural clusters(groups) if they exist in the data. You can also modify how many clusters your algorithms should identify. It allows you to adjust the granularity of these groups."
   ]
  },
  {
   "cell_type": "markdown",
   "metadata": {},
   "source": [
    "<h3>Association</h3><br>\n",
    "Association rules allow you to establish associations amongst data objects inside large databases. This unsupervised technique is about discovering interesting relationships between variables in large databases. For example, people that buy a new home most likely to buy new furniture.\n",
    "\n",
    "Other Examples:\n",
    "\n",
    "A subgroup of cancer patients grouped by their gene expression measurements\n",
    "Groups of shopper based on their browsing and purchasing histories\n",
    "Movie group by the rating given by movies viewers"
   ]
  },
  {
   "cell_type": "markdown",
   "metadata": {},
   "source": [
    "<img src=\"clus1.jpg\">"
   ]
  },
  {
   "cell_type": "markdown",
   "metadata": {},
   "source": [
    "<img src=\"unsup3.jpg\">"
   ]
  },
  {
   "cell_type": "markdown",
   "metadata": {},
   "source": [
    "# Home Task\n",
    "**1: Learn more about what is data science vs machine learning.**\n",
    "<br>\n",
    "**2: How should a ML engineer start his career with? (short answer assignment)**<br>\n",
    "**3: Learn more about how supervised and unsupervised learning works. Find out real life examples of supervised and unsupervised learning in Business industry.(5 examples of each learning process as assignment)**\n"
   ]
  },
  {
   "cell_type": "markdown",
   "metadata": {},
   "source": []
  }
 ],
 "metadata": {
  "kernelspec": {
   "display_name": "Python 3",
   "language": "python",
   "name": "python3"
  },
  "language_info": {
   "codemirror_mode": {
    "name": "ipython",
    "version": 3
   },
   "file_extension": ".py",
   "mimetype": "text/x-python",
   "name": "python",
   "nbconvert_exporter": "python",
   "pygments_lexer": "ipython3",
   "version": "3.7.6"
  }
 },
 "nbformat": 4,
 "nbformat_minor": 4
}
